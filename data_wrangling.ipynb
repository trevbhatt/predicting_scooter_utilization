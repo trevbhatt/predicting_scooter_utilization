{
 "cells": [
  {
   "cell_type": "code",
   "execution_count": 134,
   "metadata": {},
   "outputs": [],
   "source": [
    "# Import necessary modules\n",
    "import pandas as pd"
   ]
  },
  {
   "cell_type": "code",
   "execution_count": 135,
   "metadata": {},
   "outputs": [
    {
     "name": "stdout",
     "output_type": "stream",
     "text": [
      "CPU times: user 31.2 s, sys: 9.18 s, total: 40.4 s\n",
      "Wall time: 44.3 s\n",
      "                                                                 Device ID  \\\n",
      "ID                                                                           \n",
      "6865731e-5e4b-4819-9435-4e62e09a652d  08c8c852-257c-49ad-a14f-727bfc79626d   \n",
      "08dc0d9c-735e-4006-b9af-60011509e469  255716b5-4a9f-4efc-9967-7a65b3521bac   \n",
      "92b80c20-89a4-4c7f-8b61-81a3570a218e  4d1e7bd0-75ce-401c-a802-8dd87122f802   \n",
      "d9aef7c5-025d-4f2c-bafe-7801f89ef9dd  fdc38815-fe35-454b-bfb9-a63a2f2c205b   \n",
      "baec3b6e-66f1-4043-bbd5-d54087f1c2de  007f1fed-0fe6-423f-8ca7-cd67834f20da   \n",
      "\n",
      "                                     Vehicle Type  Trip Duration  \\\n",
      "ID                                                                 \n",
      "6865731e-5e4b-4819-9435-4e62e09a652d          NaN            NaN   \n",
      "08dc0d9c-735e-4006-b9af-60011509e469      bicycle     11491603.0   \n",
      "92b80c20-89a4-4c7f-8b61-81a3570a218e      scooter          678.0   \n",
      "d9aef7c5-025d-4f2c-bafe-7801f89ef9dd      scooter          713.0   \n",
      "baec3b6e-66f1-4043-bbd5-d54087f1c2de      scooter          469.0   \n",
      "\n",
      "                                      Trip Distance              Start Time  \\\n",
      "ID                                                                            \n",
      "6865731e-5e4b-4819-9435-4e62e09a652d            NaN                     NaN   \n",
      "08dc0d9c-735e-4006-b9af-60011509e469         1658.0  11/30/2018 11:00:00 AM   \n",
      "92b80c20-89a4-4c7f-8b61-81a3570a218e         2785.0  04/27/2019 03:00:00 PM   \n",
      "d9aef7c5-025d-4f2c-bafe-7801f89ef9dd         2466.0  04/27/2019 03:00:00 PM   \n",
      "baec3b6e-66f1-4043-bbd5-d54087f1c2de         1608.0  04/27/2019 03:15:00 PM   \n",
      "\n",
      "                                                    End Time  \\\n",
      "ID                                                             \n",
      "6865731e-5e4b-4819-9435-4e62e09a652d                     NaN   \n",
      "08dc0d9c-735e-4006-b9af-60011509e469  04/12/2019 12:00:00 PM   \n",
      "92b80c20-89a4-4c7f-8b61-81a3570a218e  04/27/2019 03:15:00 PM   \n",
      "d9aef7c5-025d-4f2c-bafe-7801f89ef9dd  04/27/2019 03:15:00 PM   \n",
      "baec3b6e-66f1-4043-bbd5-d54087f1c2de  04/27/2019 03:15:00 PM   \n",
      "\n",
      "                                               Modified Date  Month  Hour  \\\n",
      "ID                                                                          \n",
      "6865731e-5e4b-4819-9435-4e62e09a652d  12/13/2018 03:36:12 PM    NaN   NaN   \n",
      "08dc0d9c-735e-4006-b9af-60011509e469  12/21/2018 12:41:42 AM   11.0  11.0   \n",
      "92b80c20-89a4-4c7f-8b61-81a3570a218e  04/28/2019 02:42:07 AM    4.0  15.0   \n",
      "d9aef7c5-025d-4f2c-bafe-7801f89ef9dd  04/28/2019 02:42:07 AM    4.0  15.0   \n",
      "baec3b6e-66f1-4043-bbd5-d54087f1c2de  04/28/2019 02:42:07 AM    4.0  15.0   \n",
      "\n",
      "                                      Day of Week  Council District (Start)  \\\n",
      "ID                                                                            \n",
      "6865731e-5e4b-4819-9435-4e62e09a652d          NaN                       0.0   \n",
      "08dc0d9c-735e-4006-b9af-60011509e469          5.0                       9.0   \n",
      "92b80c20-89a4-4c7f-8b61-81a3570a218e          6.0                       1.0   \n",
      "d9aef7c5-025d-4f2c-bafe-7801f89ef9dd          6.0                       9.0   \n",
      "baec3b6e-66f1-4043-bbd5-d54087f1c2de          6.0                       9.0   \n",
      "\n",
      "                                      Council District (End)    Year  \\\n",
      "ID                                                                     \n",
      "6865731e-5e4b-4819-9435-4e62e09a652d                     0.0     NaN   \n",
      "08dc0d9c-735e-4006-b9af-60011509e469                     0.0  2018.0   \n",
      "92b80c20-89a4-4c7f-8b61-81a3570a218e                     9.0  2019.0   \n",
      "d9aef7c5-025d-4f2c-bafe-7801f89ef9dd                     5.0  2019.0   \n",
      "baec3b6e-66f1-4043-bbd5-d54087f1c2de                     9.0  2019.0   \n",
      "\n",
      "                                     Census Tract Start Census Tract End  \n",
      "ID                                                                        \n",
      "6865731e-5e4b-4819-9435-4e62e09a652d                NaN              NaN  \n",
      "08dc0d9c-735e-4006-b9af-60011509e469                NaN              NaN  \n",
      "92b80c20-89a4-4c7f-8b61-81a3570a218e        48453001100      48453001100  \n",
      "d9aef7c5-025d-4f2c-bafe-7801f89ef9dd        48453001305      48453001901  \n",
      "baec3b6e-66f1-4043-bbd5-d54087f1c2de        48453001100      48453001305  \n",
      "6848951\n"
     ]
    }
   ],
   "source": [
    "# Import the data\n",
    "\n",
    "# Configure data Types for the DataFrame creation.  Integers are left out because NaNs generate an error\n",
    "dtypes = {'ID': str, \n",
    "          'Device ID': str, \n",
    "          'Vehicle Type': 'category', \n",
    "          'Trip Duration': float, \n",
    "          'Trip Distance': float, \n",
    "          'Census Tract Start': str, \n",
    "          'Census Tract End': str}\n",
    "\n",
    "# Configure ID as the index column.\n",
    "index_cols = ['ID']\n",
    "\n",
    "# Create a dataframe and print the head.\n",
    "%time scooters = pd.read_csv('Shared_Micromobility_Vehicle_Trips.csv', dtype=dtypes, index_col=index_cols)\n",
    "print(scooters.head())\n",
    "\n",
    "# Save the size of the original dataframe\n",
    "total_rows = scooters.shape[0]\n",
    "print(total_rows)"
   ]
  },
  {
   "cell_type": "code",
   "execution_count": 136,
   "metadata": {},
   "outputs": [
    {
     "name": "stdout",
     "output_type": "stream",
     "text": [
      "Device ID                   False\n",
      "Vehicle Type                 True\n",
      "Trip Duration                True\n",
      "Trip Distance                True\n",
      "Start Time                   True\n",
      "End Time                     True\n",
      "Modified Date               False\n",
      "Month                        True\n",
      "Hour                         True\n",
      "Day of Week                  True\n",
      "Council District (Start)     True\n",
      "Council District (End)       True\n",
      "Year                         True\n",
      "Census Tract Start           True\n",
      "Census Tract End             True\n",
      "dtype: bool\n",
      "6848951\n"
     ]
    }
   ],
   "source": [
    "# Find which columns have na values\n",
    "print(scooters.isna().any())\n",
    "\n",
    "# Find how many rows are in the data.\n",
    "rows_remaining = scooters.shape[0]\n",
    "print(rows_remaining)"
   ]
  },
  {
   "cell_type": "code",
   "execution_count": 137,
   "metadata": {},
   "outputs": [
    {
     "name": "stdout",
     "output_type": "stream",
     "text": [
      "132\n",
      "6848819\n",
      "Device ID                   False\n",
      "Vehicle Type                False\n",
      "Trip Duration               False\n",
      "Trip Distance               False\n",
      "Start Time                  False\n",
      "End Time                    False\n",
      "Modified Date               False\n",
      "Month                       False\n",
      "Hour                        False\n",
      "Day of Week                 False\n",
      "Council District (Start)    False\n",
      "Council District (End)      False\n",
      "Year                        False\n",
      "Census Tract Start          False\n",
      "Census Tract End            False\n",
      "dtype: bool\n"
     ]
    }
   ],
   "source": [
    "'''Remove rows for which date time, Census Tract End or Census Tract Start are empty.\n",
    "The entire row should be removed because prediction will not be possible on rows missing this information.\n",
    "It also does not make sense to fill these columns, as every trip/row is a discrete event.'''\n",
    "scooters = scooters.dropna(how='any', subset=['Start Time', 'End Time', 'Vehicle Type','Census Tract Start', 'Census Tract End'])\n",
    "\n",
    "# Print the shape to see how many rows were removed.\n",
    "na_rows_dropped = rows_remaining - scooters.shape[0]\n",
    "rows_remaining = scooters.shape[0]\n",
    "print(na_rows_dropped)\n",
    "print(rows_remaining)\n",
    "\n",
    "# Check if any Na values remain.\n",
    "print(scooters.isna().any())"
   ]
  },
  {
   "cell_type": "code",
   "execution_count": 138,
   "metadata": {},
   "outputs": [],
   "source": [
    "# Now these columns can be converted to int (importing as int generated errors from the NaN values):\n",
    "scooters['Day of Week'] = scooters['Day of Week'].astype('int8')\n",
    "scooters['Month'] = scooters['Month'].astype('int8')\n",
    "scooters['Hour'] = scooters['Hour'].astype('int8')\n",
    "scooters['Year'] = scooters['Year'].astype('int16')"
   ]
  },
  {
   "cell_type": "code",
   "execution_count": 139,
   "metadata": {},
   "outputs": [
    {
     "name": "stdout",
     "output_type": "stream",
     "text": [
      "CPU times: user 1min 22s, sys: 888 ms, total: 1min 23s\n",
      "Wall time: 1min 24s\n"
     ]
    }
   ],
   "source": [
    "%%time \n",
    "\n",
    "# Convert date columns to datetimes. \n",
    "# Do this instead of parse_dates in read_csv to take advantage of any reduced number of rows.\n",
    "# This also allows format to be specified, which runs faster than making pandas guess the format.\n",
    "scooters['Start Time'] = pd.to_datetime(scooters['Start Time'], format='%m/%d/%Y %I:%M:%S %p')\n",
    "scooters['End Time'] = pd.to_datetime(scooters['End Time'], format='%m/%d/%Y %I:%M:%S %p')\n",
    "scooters['Modified Date'] = pd.to_datetime(scooters['Modified Date'], format='%m/%d/%Y %I:%M:%S %p')"
   ]
  },
  {
   "cell_type": "code",
   "execution_count": 140,
   "metadata": {},
   "outputs": [
    {
     "name": "stdout",
     "output_type": "stream",
     "text": [
      "Device ID                           object\n",
      "Vehicle Type                      category\n",
      "Trip Duration                      float64\n",
      "Trip Distance                      float64\n",
      "Start Time                  datetime64[ns]\n",
      "End Time                    datetime64[ns]\n",
      "Modified Date               datetime64[ns]\n",
      "Month                                 int8\n",
      "Hour                                  int8\n",
      "Day of Week                           int8\n",
      "Council District (Start)           float64\n",
      "Council District (End)             float64\n",
      "Year                                 int16\n",
      "Census Tract Start                  object\n",
      "Census Tract End                    object\n",
      "dtype: object\n"
     ]
    }
   ],
   "source": [
    "# Print the data types to show each column is the correct type.\n",
    "print(scooters.dtypes)"
   ]
  },
  {
   "cell_type": "code",
   "execution_count": 141,
   "metadata": {},
   "outputs": [
    {
     "data": {
      "text/html": [
       "<div>\n",
       "<style scoped>\n",
       "    .dataframe tbody tr th:only-of-type {\n",
       "        vertical-align: middle;\n",
       "    }\n",
       "\n",
       "    .dataframe tbody tr th {\n",
       "        vertical-align: top;\n",
       "    }\n",
       "\n",
       "    .dataframe thead th {\n",
       "        text-align: right;\n",
       "    }\n",
       "</style>\n",
       "<table border=\"1\" class=\"dataframe\">\n",
       "  <thead>\n",
       "    <tr style=\"text-align: right;\">\n",
       "      <th></th>\n",
       "      <th>Trip Duration</th>\n",
       "      <th>Trip Distance</th>\n",
       "      <th>Month</th>\n",
       "      <th>Hour</th>\n",
       "      <th>Day of Week</th>\n",
       "      <th>Council District (Start)</th>\n",
       "      <th>Council District (End)</th>\n",
       "      <th>Year</th>\n",
       "    </tr>\n",
       "  </thead>\n",
       "  <tbody>\n",
       "    <tr>\n",
       "      <th>count</th>\n",
       "      <td>6.848819e+06</td>\n",
       "      <td>6.848819e+06</td>\n",
       "      <td>6.848819e+06</td>\n",
       "      <td>6.848819e+06</td>\n",
       "      <td>6.848819e+06</td>\n",
       "      <td>6.848819e+06</td>\n",
       "      <td>6.848819e+06</td>\n",
       "      <td>6.848819e+06</td>\n",
       "    </tr>\n",
       "    <tr>\n",
       "      <th>mean</th>\n",
       "      <td>6.683567e+02</td>\n",
       "      <td>2.567904e+04</td>\n",
       "      <td>6.365451e+00</td>\n",
       "      <td>1.467579e+01</td>\n",
       "      <td>3.249692e+00</td>\n",
       "      <td>7.724952e+00</td>\n",
       "      <td>7.653362e+00</td>\n",
       "      <td>2.018663e+03</td>\n",
       "    </tr>\n",
       "    <tr>\n",
       "      <th>std</th>\n",
       "      <td>1.904785e+03</td>\n",
       "      <td>6.602799e+06</td>\n",
       "      <td>3.144655e+00</td>\n",
       "      <td>5.063322e+00</td>\n",
       "      <td>2.091870e+00</td>\n",
       "      <td>2.607489e+00</td>\n",
       "      <td>2.660768e+00</td>\n",
       "      <td>4.725357e-01</td>\n",
       "    </tr>\n",
       "    <tr>\n",
       "      <th>min</th>\n",
       "      <td>-8.616100e+04</td>\n",
       "      <td>-1.672411e+07</td>\n",
       "      <td>1.000000e+00</td>\n",
       "      <td>0.000000e+00</td>\n",
       "      <td>0.000000e+00</td>\n",
       "      <td>0.000000e+00</td>\n",
       "      <td>0.000000e+00</td>\n",
       "      <td>2.018000e+03</td>\n",
       "    </tr>\n",
       "    <tr>\n",
       "      <th>25%</th>\n",
       "      <td>2.320000e+02</td>\n",
       "      <td>4.550000e+02</td>\n",
       "      <td>4.000000e+00</td>\n",
       "      <td>1.200000e+01</td>\n",
       "      <td>1.000000e+00</td>\n",
       "      <td>9.000000e+00</td>\n",
       "      <td>9.000000e+00</td>\n",
       "      <td>2.018000e+03</td>\n",
       "    </tr>\n",
       "    <tr>\n",
       "      <th>50%</th>\n",
       "      <td>4.050000e+02</td>\n",
       "      <td>9.980000e+02</td>\n",
       "      <td>6.000000e+00</td>\n",
       "      <td>1.500000e+01</td>\n",
       "      <td>3.000000e+00</td>\n",
       "      <td>9.000000e+00</td>\n",
       "      <td>9.000000e+00</td>\n",
       "      <td>2.019000e+03</td>\n",
       "    </tr>\n",
       "    <tr>\n",
       "      <th>75%</th>\n",
       "      <td>7.550000e+02</td>\n",
       "      <td>1.895000e+03</td>\n",
       "      <td>9.000000e+00</td>\n",
       "      <td>1.800000e+01</td>\n",
       "      <td>5.000000e+00</td>\n",
       "      <td>9.000000e+00</td>\n",
       "      <td>9.000000e+00</td>\n",
       "      <td>2.019000e+03</td>\n",
       "    </tr>\n",
       "    <tr>\n",
       "      <th>max</th>\n",
       "      <td>1.888695e+06</td>\n",
       "      <td>2.147484e+09</td>\n",
       "      <td>1.200000e+01</td>\n",
       "      <td>2.300000e+01</td>\n",
       "      <td>6.000000e+00</td>\n",
       "      <td>1.000000e+01</td>\n",
       "      <td>1.000000e+01</td>\n",
       "      <td>2.019000e+03</td>\n",
       "    </tr>\n",
       "  </tbody>\n",
       "</table>\n",
       "</div>"
      ],
      "text/plain": [
       "       Trip Duration  Trip Distance         Month          Hour   Day of Week  \\\n",
       "count   6.848819e+06   6.848819e+06  6.848819e+06  6.848819e+06  6.848819e+06   \n",
       "mean    6.683567e+02   2.567904e+04  6.365451e+00  1.467579e+01  3.249692e+00   \n",
       "std     1.904785e+03   6.602799e+06  3.144655e+00  5.063322e+00  2.091870e+00   \n",
       "min    -8.616100e+04  -1.672411e+07  1.000000e+00  0.000000e+00  0.000000e+00   \n",
       "25%     2.320000e+02   4.550000e+02  4.000000e+00  1.200000e+01  1.000000e+00   \n",
       "50%     4.050000e+02   9.980000e+02  6.000000e+00  1.500000e+01  3.000000e+00   \n",
       "75%     7.550000e+02   1.895000e+03  9.000000e+00  1.800000e+01  5.000000e+00   \n",
       "max     1.888695e+06   2.147484e+09  1.200000e+01  2.300000e+01  6.000000e+00   \n",
       "\n",
       "       Council District (Start)  Council District (End)          Year  \n",
       "count              6.848819e+06            6.848819e+06  6.848819e+06  \n",
       "mean               7.724952e+00            7.653362e+00  2.018663e+03  \n",
       "std                2.607489e+00            2.660768e+00  4.725357e-01  \n",
       "min                0.000000e+00            0.000000e+00  2.018000e+03  \n",
       "25%                9.000000e+00            9.000000e+00  2.018000e+03  \n",
       "50%                9.000000e+00            9.000000e+00  2.019000e+03  \n",
       "75%                9.000000e+00            9.000000e+00  2.019000e+03  \n",
       "max                1.000000e+01            1.000000e+01  2.019000e+03  "
      ]
     },
     "execution_count": 141,
     "metadata": {},
     "output_type": "execute_result"
    }
   ],
   "source": [
    "# Use describe to search for outliers\n",
    "scooters.describe()"
   ]
  },
  {
   "cell_type": "code",
   "execution_count": 147,
   "metadata": {},
   "outputs": [
    {
     "name": "stdout",
     "output_type": "stream",
     "text": [
      "55329\n",
      "6793490\n"
     ]
    }
   ],
   "source": [
    "# Remove any rows that started or ended out of bounds\n",
    "scooters = scooters[~scooters['Census Tract Start'].str.contains('OUT_OF_BOUNDS')]\n",
    "scooters = scooters[~scooters['Census Tract End'].str.contains('OUT_OF_BOUNDS')]\n",
    "\n",
    "# Get number of rows dropped\n",
    "oob_rows_dropped = rows_remaining - scooters.shape[0]\n",
    "rows_remaining = scooters.shape[0]\n",
    "print(oob_rows_dropped)\n",
    "print(rows_remaining)"
   ]
  },
  {
   "cell_type": "code",
   "execution_count": 148,
   "metadata": {},
   "outputs": [
    {
     "name": "stdout",
     "output_type": "stream",
     "text": [
      "Negative duration dropped: 1406\n",
      "6792084\n",
      "Over 24 hours dropped: 144\n",
      "6791940\n",
      "Negative distance dropped: 515895\n",
      "6276045\n",
      "Distance > 500 dropped: 510\n",
      "6275535\n"
     ]
    }
   ],
   "source": [
    "# Describe showed negative trip duration values. Remove these entries\n",
    "scooters = scooters[scooters['Trip Duration'] > 0]\n",
    "# Get number of rows dropped\n",
    "neg_dur_rows_dropped = rows_remaining - scooters.shape[0]\n",
    "rows_remaining = scooters.shape[0]\n",
    "print('Negative duration dropped: ' + str(neg_dur_rows_dropped))\n",
    "print(rows_remaining)\n",
    "\n",
    "# Drop > 24 hours\n",
    "scooters = scooters[scooters['Trip Duration'] < 86400]\n",
    "high_dur_rows_dropped = rows_remaining - scooters.shape[0]\n",
    "rows_remaining = scooters.shape[0]\n",
    "print('Over 24 hours dropped: ' + str(high_dur_rows_dropped))\n",
    "print(rows_remaining)\n",
    "\n",
    "# Describe showed negative trip distance values. Remove these entries and any entries over 500 miles.\n",
    "scooters = scooters[scooters['Trip Distance'] > 0]\n",
    "\n",
    "neg_dist_rows_dropped = rows_remaining - scooters.shape[0]\n",
    "rows_remaining = scooters.shape[0]\n",
    "print('Negative distance dropped: ' + str(neg_dist_rows_dropped))\n",
    "print(rows_remaining)\n",
    "\n",
    "\n",
    "scooters = scooters[scooters['Trip Distance'] < 804672]\n",
    "high_dist_rows_dropped = rows_remaining - scooters.shape[0]\n",
    "rows_remaining = scooters.shape[0]\n",
    "print('Distance > 500 dropped: ' + str(high_dist_rows_dropped))\n",
    "print(rows_remaining)"
   ]
  },
  {
   "cell_type": "code",
   "execution_count": 150,
   "metadata": {},
   "outputs": [
    {
     "data": {
      "text/plain": [
       "0.08372318622224045"
      ]
     },
     "execution_count": 150,
     "metadata": {},
     "output_type": "execute_result"
    }
   ],
   "source": [
    "# print number of rows dropped\n",
    "(total_rows - rows_remaining)/total_rows"
   ]
  },
  {
   "cell_type": "code",
   "execution_count": null,
   "metadata": {},
   "outputs": [],
   "source": []
  }
 ],
 "metadata": {
  "kernelspec": {
   "display_name": "Python 3",
   "language": "python",
   "name": "python3"
  },
  "language_info": {
   "codemirror_mode": {
    "name": "ipython",
    "version": 3
   },
   "file_extension": ".py",
   "mimetype": "text/x-python",
   "name": "python",
   "nbconvert_exporter": "python",
   "pygments_lexer": "ipython3",
   "version": "3.7.3"
  }
 },
 "nbformat": 4,
 "nbformat_minor": 2
}
