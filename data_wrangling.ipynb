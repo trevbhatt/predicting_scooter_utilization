{
 "cells": [
  {
   "cell_type": "code",
   "execution_count": 1,
   "metadata": {},
   "outputs": [],
   "source": [
    "'''Change Log:\n",
    "        -Added ylabels to graphs 2019-10-18 TB\n",
    "        ''';"
   ]
  },
  {
   "cell_type": "code",
   "execution_count": 2,
   "metadata": {},
   "outputs": [],
   "source": [
    "# Import necessary modules\n",
    "import pandas as pd\n",
    "import matplotlib.pyplot as plt\n",
    "import seaborn as sns"
   ]
  },
  {
   "cell_type": "code",
   "execution_count": 3,
   "metadata": {
    "scrolled": true
   },
   "outputs": [],
   "source": [
    "# Import the data from a CSV\n",
    "\n",
    "# Configure data Types for the DataFrame creation.  Integers are left out because NaNs generate an error\n",
    "dtypes = {'ID': str, \n",
    "          'Device ID': str, \n",
    "          'Vehicle Type': 'category', \n",
    "          'Trip Duration': float, \n",
    "          'Trip Distance': float, \n",
    "          'Census Tract Start': str, \n",
    "          'Census Tract End': str}\n",
    "\n",
    "# Configure ID as the index column.\n",
    "index_cols = ['ID']\n",
    "\n",
    "# Create the dataframe.\n",
    "scooters = pd.read_csv('Shared_Micromobility_Vehicle_Trips.csv', dtype=dtypes, index_col=index_cols)"
   ]
  },
  {
   "cell_type": "code",
   "execution_count": 4,
   "metadata": {},
   "outputs": [
    {
     "name": "stdout",
     "output_type": "stream",
     "text": [
      "E-Bikes dropped: 338834\n"
     ]
    }
   ],
   "source": [
    "# Remove e-bikes, which are out of scope of this project:\n",
    "total_rows = scooters.shape[0]\n",
    "scooters = scooters[scooters['Vehicle Type'] == 'scooter']\n",
    "e_bikes_dropped = total_rows - scooters.shape[0]\n",
    "print('E-Bikes dropped: ' + str(e_bikes_dropped))"
   ]
  },
  {
   "cell_type": "code",
   "execution_count": 5,
   "metadata": {},
   "outputs": [
    {
     "name": "stdout",
     "output_type": "stream",
     "text": [
      "Original scooter entries: 6510117\n"
     ]
    }
   ],
   "source": [
    "# Save the size of the original dataframe\n",
    "total_rows = scooters.shape[0]\n",
    "print('Original scooter entries: ' + str(total_rows))"
   ]
  },
  {
   "cell_type": "code",
   "execution_count": 6,
   "metadata": {},
   "outputs": [],
   "source": [
    "# Find which columns have na values (commented for cleaner output)\n",
    "# print(scooters.isna().any())\n",
    "\n",
    "# Initialize rows_remaining to count as rows are removed\n",
    "rows_remaining = scooters.shape[0]"
   ]
  },
  {
   "cell_type": "code",
   "execution_count": 7,
   "metadata": {},
   "outputs": [
    {
     "name": "stdout",
     "output_type": "stream",
     "text": [
      "NA rows dropped: 130\n"
     ]
    }
   ],
   "source": [
    "'''Remove rows for which date time, Census Tract End or Census Tract Start are empty.\n",
    "The entire row should be removed because prediction will not be possible on rows missing this information.\n",
    "It also does not make sense to fill these columns, as every trip/row is a discrete event.'''\n",
    "scooters = scooters.dropna(how='any', subset=['Start Time', 'End Time', 'Vehicle Type','Census Tract Start', 'Census Tract End'])\n",
    "\n",
    "# Determine how many rows were removed.\n",
    "na_rows_dropped = rows_remaining - scooters.shape[0]\n",
    "rows_remaining = scooters.shape[0]\n",
    "print('NA rows dropped: ' + str(na_rows_dropped))\n",
    "\n",
    "\n",
    "# Check if any Na values remain. (Commented to clean output)\n",
    "# print(scooters.isna().any())"
   ]
  },
  {
   "cell_type": "code",
   "execution_count": 8,
   "metadata": {},
   "outputs": [],
   "source": [
    "# Now these columns can be converted to int (importing as int generated errors from the NaN values):\n",
    "scooters['Day of Week'] = scooters['Day of Week'].astype('int8')\n",
    "scooters['Month'] = scooters['Month'].astype('int8')\n",
    "scooters['Hour'] = scooters['Hour'].astype('int8')\n",
    "scooters['Year'] = scooters['Year'].astype('int16')"
   ]
  },
  {
   "cell_type": "code",
   "execution_count": 9,
   "metadata": {},
   "outputs": [],
   "source": [
    "# %%time \n",
    "\n",
    "# Convert date columns to datetimes. \n",
    "# Do this instead of parse_dates in read_csv to take advantage of any reduced number of rows.\n",
    "# This also allows format to be specified, which runs faster than making pandas guess the format.\n",
    "scooters['Start Time'] = pd.to_datetime(scooters['Start Time'], format='%m/%d/%Y %I:%M:%S %p')\n",
    "scooters['End Time'] = pd.to_datetime(scooters['End Time'], format='%m/%d/%Y %I:%M:%S %p')\n",
    "scooters['Modified Date'] = pd.to_datetime(scooters['Modified Date'], format='%m/%d/%Y %I:%M:%S %p')"
   ]
  },
  {
   "cell_type": "code",
   "execution_count": 10,
   "metadata": {},
   "outputs": [
    {
     "data": {
      "text/html": [
       "<div>\n",
       "<style scoped>\n",
       "    .dataframe tbody tr th:only-of-type {\n",
       "        vertical-align: middle;\n",
       "    }\n",
       "\n",
       "    .dataframe tbody tr th {\n",
       "        vertical-align: top;\n",
       "    }\n",
       "\n",
       "    .dataframe thead th {\n",
       "        text-align: right;\n",
       "    }\n",
       "</style>\n",
       "<table border=\"1\" class=\"dataframe\">\n",
       "  <thead>\n",
       "    <tr style=\"text-align: right;\">\n",
       "      <th></th>\n",
       "      <th>Trip Duration</th>\n",
       "      <th>Trip Distance</th>\n",
       "      <th>Month</th>\n",
       "      <th>Hour</th>\n",
       "      <th>Day of Week</th>\n",
       "      <th>Council District (Start)</th>\n",
       "      <th>Council District (End)</th>\n",
       "      <th>Year</th>\n",
       "    </tr>\n",
       "  </thead>\n",
       "  <tbody>\n",
       "    <tr>\n",
       "      <th>count</th>\n",
       "      <td>6.509987e+06</td>\n",
       "      <td>6.509987e+06</td>\n",
       "      <td>6.509987e+06</td>\n",
       "      <td>6.509987e+06</td>\n",
       "      <td>6.509987e+06</td>\n",
       "      <td>6.509987e+06</td>\n",
       "      <td>6.509987e+06</td>\n",
       "      <td>6.509987e+06</td>\n",
       "    </tr>\n",
       "    <tr>\n",
       "      <th>mean</th>\n",
       "      <td>6.475654e+02</td>\n",
       "      <td>2.453379e+04</td>\n",
       "      <td>6.385089e+00</td>\n",
       "      <td>1.469741e+01</td>\n",
       "      <td>3.256158e+00</td>\n",
       "      <td>7.757887e+00</td>\n",
       "      <td>7.687659e+00</td>\n",
       "      <td>2.018658e+03</td>\n",
       "    </tr>\n",
       "    <tr>\n",
       "      <th>std</th>\n",
       "      <td>1.842794e+03</td>\n",
       "      <td>6.423460e+06</td>\n",
       "      <td>3.160754e+00</td>\n",
       "      <td>5.044591e+00</td>\n",
       "      <td>2.092815e+00</td>\n",
       "      <td>2.587293e+00</td>\n",
       "      <td>2.641701e+00</td>\n",
       "      <td>4.744855e-01</td>\n",
       "    </tr>\n",
       "    <tr>\n",
       "      <th>min</th>\n",
       "      <td>-3.423000e+03</td>\n",
       "      <td>-1.672411e+07</td>\n",
       "      <td>1.000000e+00</td>\n",
       "      <td>0.000000e+00</td>\n",
       "      <td>0.000000e+00</td>\n",
       "      <td>0.000000e+00</td>\n",
       "      <td>0.000000e+00</td>\n",
       "      <td>2.018000e+03</td>\n",
       "    </tr>\n",
       "    <tr>\n",
       "      <th>25%</th>\n",
       "      <td>2.280000e+02</td>\n",
       "      <td>4.370000e+02</td>\n",
       "      <td>4.000000e+00</td>\n",
       "      <td>1.200000e+01</td>\n",
       "      <td>1.000000e+00</td>\n",
       "      <td>9.000000e+00</td>\n",
       "      <td>9.000000e+00</td>\n",
       "      <td>2.018000e+03</td>\n",
       "    </tr>\n",
       "    <tr>\n",
       "      <th>50%</th>\n",
       "      <td>3.960000e+02</td>\n",
       "      <td>9.650000e+02</td>\n",
       "      <td>6.000000e+00</td>\n",
       "      <td>1.500000e+01</td>\n",
       "      <td>3.000000e+00</td>\n",
       "      <td>9.000000e+00</td>\n",
       "      <td>9.000000e+00</td>\n",
       "      <td>2.019000e+03</td>\n",
       "    </tr>\n",
       "    <tr>\n",
       "      <th>75%</th>\n",
       "      <td>7.380000e+02</td>\n",
       "      <td>1.818000e+03</td>\n",
       "      <td>9.000000e+00</td>\n",
       "      <td>1.800000e+01</td>\n",
       "      <td>5.000000e+00</td>\n",
       "      <td>9.000000e+00</td>\n",
       "      <td>9.000000e+00</td>\n",
       "      <td>2.019000e+03</td>\n",
       "    </tr>\n",
       "    <tr>\n",
       "      <th>max</th>\n",
       "      <td>1.888695e+06</td>\n",
       "      <td>2.147480e+09</td>\n",
       "      <td>1.200000e+01</td>\n",
       "      <td>2.300000e+01</td>\n",
       "      <td>6.000000e+00</td>\n",
       "      <td>1.000000e+01</td>\n",
       "      <td>1.000000e+01</td>\n",
       "      <td>2.019000e+03</td>\n",
       "    </tr>\n",
       "  </tbody>\n",
       "</table>\n",
       "</div>"
      ],
      "text/plain": [
       "       Trip Duration  Trip Distance         Month          Hour   Day of Week  \\\n",
       "count   6.509987e+06   6.509987e+06  6.509987e+06  6.509987e+06  6.509987e+06   \n",
       "mean    6.475654e+02   2.453379e+04  6.385089e+00  1.469741e+01  3.256158e+00   \n",
       "std     1.842794e+03   6.423460e+06  3.160754e+00  5.044591e+00  2.092815e+00   \n",
       "min    -3.423000e+03  -1.672411e+07  1.000000e+00  0.000000e+00  0.000000e+00   \n",
       "25%     2.280000e+02   4.370000e+02  4.000000e+00  1.200000e+01  1.000000e+00   \n",
       "50%     3.960000e+02   9.650000e+02  6.000000e+00  1.500000e+01  3.000000e+00   \n",
       "75%     7.380000e+02   1.818000e+03  9.000000e+00  1.800000e+01  5.000000e+00   \n",
       "max     1.888695e+06   2.147480e+09  1.200000e+01  2.300000e+01  6.000000e+00   \n",
       "\n",
       "       Council District (Start)  Council District (End)          Year  \n",
       "count              6.509987e+06            6.509987e+06  6.509987e+06  \n",
       "mean               7.757887e+00            7.687659e+00  2.018658e+03  \n",
       "std                2.587293e+00            2.641701e+00  4.744855e-01  \n",
       "min                0.000000e+00            0.000000e+00  2.018000e+03  \n",
       "25%                9.000000e+00            9.000000e+00  2.018000e+03  \n",
       "50%                9.000000e+00            9.000000e+00  2.019000e+03  \n",
       "75%                9.000000e+00            9.000000e+00  2.019000e+03  \n",
       "max                1.000000e+01            1.000000e+01  2.019000e+03  "
      ]
     },
     "execution_count": 10,
     "metadata": {},
     "output_type": "execute_result"
    }
   ],
   "source": [
    "# Use describe to search for outliers\n",
    "scooters.describe()"
   ]
  },
  {
   "cell_type": "code",
   "execution_count": 11,
   "metadata": {},
   "outputs": [
    {
     "name": "stdout",
     "output_type": "stream",
     "text": [
      "Out of Bounds entries dropped: 52981\n"
     ]
    }
   ],
   "source": [
    "# Remove any rows that started or ended out of bounds\n",
    "scooters = scooters[~scooters['Census Tract Start'].str.contains('OUT_OF_BOUNDS')]\n",
    "scooters = scooters[~scooters['Census Tract End'].str.contains('OUT_OF_BOUNDS')]\n",
    "\n",
    "# Get number of rows dropped\n",
    "oob_rows_dropped = rows_remaining - scooters.shape[0]\n",
    "rows_remaining = scooters.shape[0]\n",
    "print('Out of Bounds entries dropped: ' + str(oob_rows_dropped))"
   ]
  },
  {
   "cell_type": "code",
   "execution_count": 12,
   "metadata": {
    "scrolled": false
   },
   "outputs": [
    {
     "name": "stdout",
     "output_type": "stream",
     "text": [
      "Before removing outliers:\n"
     ]
    },
    {
     "data": {
      "image/png": "[encoded data removed]",
      "text/plain": [
       "<Figure size 720x360 with 2 Axes>"
      ]
     },
     "metadata": {
      "needs_background": "light"
     },
     "output_type": "display_data"
    }
   ],
   "source": [
    "print('Before removing outliers:')\n",
    "\n",
    "# Describe showed some negative and very high values for Trip Distance and Trip Duration.\n",
    "# Use histograms to show how the values are distributed.\n",
    "\n",
    "plt.figure(figsize=[10, 5])\n",
    "plt.subplot(1,2,1)\n",
    "plt.hist(scooters['Trip Duration'], bins=50, )\n",
    "plt.ylabel('Number of trips')\n",
    "plt.xlabel('seconds')\n",
    "plt.title('Trip Duration Frequency')\n",
    "plt.xticks(rotation='vertical')\n",
    "\n",
    "plt.subplot(1,2,2)\n",
    "plt.hist(scooters['Trip Distance'], bins=50)\n",
    "plt.xlabel('meters')\n",
    "plt.title('Trip Distance Frequency')\n",
    "plt.xticks(rotation='vertical')\n",
    "\n",
    "plt.tight_layout()\n",
    "plt.show()\n",
    "plt.close()"
   ]
  },
  {
   "cell_type": "code",
   "execution_count": 13,
   "metadata": {},
   "outputs": [
    {
     "name": "stdout",
     "output_type": "stream",
     "text": [
      "Negative duration dropped: 1028\n",
      "Over 12.0 hours dropped: 262\n",
      "Negative or 0 distance dropped: 505391\n",
      "Distance > 49.9999845312 mi dropped: 965\n"
     ]
    }
   ],
   "source": [
    "# Describe showed negative trip duration values. Remove these entries\n",
    "scooters = scooters[scooters['Trip Duration'] > 0]\n",
    "\n",
    "# Get number of rows dropped\n",
    "neg_dur_rows_dropped = rows_remaining - scooters.shape[0]\n",
    "rows_remaining = scooters.shape[0]\n",
    "print('Negative duration dropped: ' + str(neg_dur_rows_dropped))\n",
    "\n",
    "# Drop > a certain number of hours\n",
    "time_thresh = 43200\n",
    "scooters = scooters[scooters['Trip Duration'] < time_thresh]\n",
    "high_dur_rows_dropped = rows_remaining - scooters.shape[0]\n",
    "rows_remaining = scooters.shape[0]\n",
    "print('Over ' + str(time_thresh/3600) + ' hours dropped: ' + str(high_dur_rows_dropped))\n",
    "\n",
    "# Describe showed negative trip distance values. Remove these entries, and trips of 0 m.\n",
    "scooters = scooters[scooters['Trip Distance'] > 0]\n",
    "neg_dist_rows_dropped = rows_remaining - scooters.shape[0]\n",
    "rows_remaining = scooters.shape[0]\n",
    "print('Negative or 0 distance dropped: ' + str(neg_dist_rows_dropped))\n",
    "\n",
    "# Remove entries over a certain amount for trip distance.  Average scooter battery range is 30 mi, with some capable of 50 mi.\n",
    "dist_thresh = 80467.2\n",
    "scooters = scooters[scooters['Trip Distance'] < dist_thresh]\n",
    "high_dist_rows_dropped = rows_remaining - scooters.shape[0]\n",
    "rows_remaining = scooters.shape[0]\n",
    "print('Distance > ' + str(dist_thresh * 0.000621371) + ' mi dropped: ' + str(high_dist_rows_dropped))"
   ]
  },
  {
   "cell_type": "code",
   "execution_count": 14,
   "metadata": {},
   "outputs": [
    {
     "name": "stdout",
     "output_type": "stream",
     "text": [
      "After removing outliers:\n"
     ]
    },
    {
     "data": {
      "image/png": "[encoded data removed]",
      "text/plain": [
       "<Figure size 720x360 with 2 Axes>"
      ]
     },
     "metadata": {
      "needs_background": "light"
     },
     "output_type": "display_data"
    }
   ],
   "source": [
    "# Generate histograms to show effect of removing outliers\n",
    "\n",
    "print('After removing outliers:')\n",
    "plt.figure(figsize=[10, 5])\n",
    "plt.subplot(1,2,1)\n",
    "plt.hist(scooters['Trip Duration'], bins=50)\n",
    "plt.ylabel('Number of Trips')\n",
    "plt.xlabel('seconds')\n",
    "plt.title('Trip Duration Frequency')\n",
    "plt.xticks(rotation='vertical')\n",
    "\n",
    "plt.subplot(1,2,2)\n",
    "plt.hist(scooters['Trip Distance'], bins=50)\n",
    "plt.xlabel('meters')\n",
    "plt.title('Trip Distance Fre`quency')\n",
    "plt.xticks(rotation='vertical')\n",
    "\n",
    "plt.tight_layout()\n",
    "plt.show()\n",
    "plt.close()"
   ]
  },
  {
   "cell_type": "code",
   "execution_count": 15,
   "metadata": {},
   "outputs": [
    {
     "name": "stdout",
     "output_type": "stream",
     "text": [
      "Total entries remaining: 5949360\n",
      "Percent removed: 8.61362399477613%\n"
     ]
    }
   ],
   "source": [
    "# print number of rows dropped\n",
    "print('Total entries remaining: ' + str(rows_remaining))\n",
    "print('Percent removed: ' + str(((total_rows - rows_remaining)/total_rows)*100.00) + '%')"
   ]
  },
  {
   "cell_type": "code",
   "execution_count": 16,
   "metadata": {},
   "outputs": [
    {
     "name": "stdout",
     "output_type": "stream",
     "text": [
      "Column Data types:\n",
      "Device ID                           object\n",
      "Vehicle Type                      category\n",
      "Trip Duration                      float64\n",
      "Trip Distance                      float64\n",
      "Start Time                  datetime64[ns]\n",
      "End Time                    datetime64[ns]\n",
      "Modified Date               datetime64[ns]\n",
      "Month                                 int8\n",
      "Hour                                  int8\n",
      "Day of Week                           int8\n",
      "Council District (Start)           float64\n",
      "Council District (End)             float64\n",
      "Year                                 int16\n",
      "Census Tract Start                  object\n",
      "Census Tract End                    object\n",
      "dtype: object\n"
     ]
    }
   ],
   "source": [
    "# Print the data types to show each column is the correct type.\n",
    "print('Column Data types:')\n",
    "print(scooters.dtypes)"
   ]
  }
 ],
 "metadata": {
  "kernelspec": {
   "display_name": "Python 3",
   "language": "python",
   "name": "python3"
  },
  "language_info": {
   "codemirror_mode": {
    "name": "ipython",
    "version": 3
   },
   "file_extension": ".py",
   "mimetype": "text/x-python",
   "name": "python",
   "nbconvert_exporter": "python",
   "pygments_lexer": "ipython3",
   "version": "3.7.3"
  }
 },
 "nbformat": 4,
 "nbformat_minor": 2
}
